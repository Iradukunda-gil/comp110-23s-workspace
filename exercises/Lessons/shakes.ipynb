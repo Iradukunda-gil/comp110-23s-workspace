{
 "cells": [
  {
   "cell_type": "code",
   "execution_count": null,
   "metadata": {},
   "outputs": [],
   "source": [
    "1. #Quantifying Shakespeare\n",
    "\n",
    "2. Analyzing the frequencies of different \n",
    "#3. \n",
    "#4. (Data from bit.ly/shakespeare-txt)\n",
    "#5.\n",
    "#6. In this document we will:\n",
    "#7. 1. Read all of shakespeare's works into a list"
   ]
  },
  {
   "attachments": {},
   "cell_type": "markdown",
   "metadata": {},
   "source": [
    "## Read the lines of the data\n"
   ]
  },
  {
   "cell_type": "code",
   "execution_count": 14,
   "metadata": {},
   "outputs": [
    {
     "name": "stdout",
     "output_type": "stream",
     "text": [
      "248912\n"
     ]
    }
   ],
   "source": [
    "from io import TextIOWrapper\n",
    "def read_lines(filename: str) -> list[str]:\n",
    "    \"\"\"Read a .txt file into a list of strings for each line \"\"\"\n",
    "    lines: list[str] = []\n",
    "    file_handle = open(filename, \"r\")\n",
    "    for line in file_handle:\n",
    "        # strip leading and tralling whitespace \"   a dog \" -> \"a dog\"\n",
    "        line = line.strip()\n",
    "        lines.append(line)\n",
    "        line = line.lower()\n",
    "        lines.append(line)\n",
    "    file_handle.close()\n",
    "    return lines\n",
    "shakes_lines: list[str] = read_lines(\"../Lessons/t8.shakespeare.txt\")\n",
    "print(len(shakes_lines))\n",
    "        \n"
   ]
  },
  {
   "attachments": {},
   "cell_type": "markdown",
   "metadata": {},
   "source": []
  },
  {
   "cell_type": "code",
   "execution_count": 18,
   "metadata": {},
   "outputs": [],
   "source": [
    "def tally(counts: dict[str,str], int, key: str) -> None:\n",
    "    \"\"\"Mutate counts by increasing the value stored at key by 1\"\"\"\n",
    "    if key in counts:\n",
    "        counts[key] += 1\n",
    "    else:\n",
    "        counts[key] = 1"
   ]
  },
  {
   "cell_type": "code",
   "execution_count": 21,
   "metadata": {},
   "outputs": [
    {
     "ename": "TypeError",
     "evalue": "tally() missing 1 required positional argument: 'key'",
     "output_type": "error",
     "traceback": [
      "\u001b[1;31m---------------------------------------------------------------------------\u001b[0m",
      "\u001b[1;31mTypeError\u001b[0m                                 Traceback (most recent call last)",
      "Cell \u001b[1;32mIn[21], line 2\u001b[0m\n\u001b[0;32m      1\u001b[0m d: \u001b[39mdict\u001b[39m[\u001b[39mstr\u001b[39m, \u001b[39mint\u001b[39m] \u001b[39m=\u001b[39m {}\n\u001b[1;32m----> 2\u001b[0m tally(d, \u001b[39m\"\u001b[39;49m\u001b[39ma\u001b[39;49m\u001b[39m\"\u001b[39;49m)\n",
      "\u001b[1;31mTypeError\u001b[0m: tally() missing 1 required positional argument: 'key'"
     ]
    }
   ],
   "source": [
    "d: dict[str, int] = {}\n",
    "tally(d, \"a\")\n",
    "# d = {\"a\": 1}\n",
    "print(d)\n",
    "tally(d, \"a\")\n",
    "# d = {\"a\": 2}\n",
    "print(d)\n",
    "tally(d, \"b\")\n",
    "# d = {\"a\": 2, \"b\":1}\n",
    "print(d)\n",
    "\n"
   ]
  },
  {
   "attachments": {},
   "cell_type": "markdown",
   "metadata": {},
   "source": []
  },
  {
   "cell_type": "code",
   "execution_count": null,
   "metadata": {},
   "outputs": [],
   "source": [
    "def count_letters(lines: list[str]) -> dict[str,int]:\n",
    "    \"\"\"Count the frequency of each letter in each line of lines\"\"\"\n",
    "    count: dict[str, int] = {}\n",
    "    for line in lines:\n",
    "        for char in line:\n",
    "            if char.isalpha():\n",
    "                tally(counts, char)\n",
    "        return counts\n",
    "shakes_letters: dict[str, int] = count_letters(shakes_lines)\n",
    "print(shakes_letters)"
   ]
  },
  {
   "attachments": {},
   "cell_type": "markdown",
   "metadata": {},
   "source": [
    "## Sorting in Lists and Dictionaries"
   ]
  },
  {
   "cell_type": "code",
   "execution_count": null,
   "metadata": {},
   "outputs": [],
   "source": [
    "# Get list of items of a dictionary\n",
    "print(shakes_letters)\n",
    "shakes_letters_list = list(shakes_letters. items())\n",
    "#print(shakes_letters_list)\n",
    "shakes_letters_list = sorted(shakes_letters_list)\n",
    "#print(shakes_letters_list)\n",
    "shakes_letters_sorted = dict[shakes_letters_list]\n",
    "#shakes_letters_sorted\n"
   ]
  },
  {
   "attachments": {},
   "cell_type": "markdown",
   "metadata": {},
   "source": [
    "## Visualize Data in Bar Graph\n"
   ]
  },
  {
   "cell_type": "code",
   "execution_count": null,
   "metadata": {},
   "outputs": [],
   "source": [
    "from matplotlib import pyplot\n",
    "pyplot.title(\"Letter Frequencies\")\n",
    "pyplot.xlabel(\"Letters\")\n",
    "pyplot.ylable(\"Frequency\")\n",
    "x_values: list[str] = shakes_letters_sorted.keys() # my letters\n",
    "y_values: list[int] = shakes_letters_sorted.values() #my letters counts\n",
    "pyplot.bar(x_values, y_values)"
   ]
  }
 ],
 "metadata": {
  "kernelspec": {
   "display_name": "Python 3",
   "language": "python",
   "name": "python3"
  },
  "language_info": {
   "codemirror_mode": {
    "name": "ipython",
    "version": 3
   },
   "file_extension": ".py",
   "mimetype": "text/x-python",
   "name": "python",
   "nbconvert_exporter": "python",
   "pygments_lexer": "ipython3",
   "version": "3.11.1"
  },
  "orig_nbformat": 4
 },
 "nbformat": 4,
 "nbformat_minor": 2
}
